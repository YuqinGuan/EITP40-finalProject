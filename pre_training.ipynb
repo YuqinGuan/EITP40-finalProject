{
 "cells": [
  {
   "cell_type": "code",
   "execution_count": 2,
   "metadata": {},
   "outputs": [
    {
     "name": "stderr",
     "output_type": "stream",
     "text": [
      "2023-12-03 16:22:41.473294: I tensorflow/core/platform/cpu_feature_guard.cc:182] This TensorFlow binary is optimized to use available CPU instructions in performance-critical operations.\n",
      "To enable the following instructions: AVX2 FMA, in other operations, rebuild TensorFlow with the appropriate compiler flags.\n"
     ]
    }
   ],
   "source": [
    "from matplotlib import pyplot as plt\n",
    "from sklearn.preprocessing import MinMaxScaler, StandardScaler\n",
    "from sklearn import metrics\n",
    "import numpy as np\n",
    "import pandas as pd\n",
    "import scipy.io\n",
    "from tensorflow import keras as K, nn\n",
    "import seaborn as sns"
   ]
  },
  {
   "cell_type": "markdown",
   "metadata": {},
   "source": [
    "# Load dataset of our own handwritten letters"
   ]
  },
  {
   "cell_type": "code",
   "execution_count": 3,
   "metadata": {},
   "outputs": [
    {
     "data": {
      "text/plain": [
       "(77, 28, 28)"
      ]
     },
     "execution_count": 3,
     "metadata": {},
     "output_type": "execute_result"
    }
   ],
   "source": [
    "# Load all char datasets of own handwriting to create larger dataset\n",
    "# chars1, chars2, chars3\n",
    "\n",
    "data1 = np.load('data/training/chars1.npy')\n",
    "data2 = np.load('data/training/chars2.npy')\n",
    "data3 = np.load('data/training/chars3.npy')\n",
    "\n",
    "np.concatenate\n",
    "data_total = np.concatenate((data1, data2, data3))\n",
    "data_total.shape"
   ]
  },
  {
   "cell_type": "markdown",
   "metadata": {},
   "source": [
    "## Normalize data"
   ]
  },
  {
   "cell_type": "code",
   "execution_count": 4,
   "metadata": {},
   "outputs": [],
   "source": [
    "data = data_total/255\n",
    "\n",
    "\n",
    "\n",
    "## Initialized once\n",
    "# y = np.empty(data.shape[0], dtype=np.uint8)\n",
    "y = np.array([7,14,15,4,19,7,8,18,22,99,10,18,99,5,11,13,0,15,17,14,9,4,2,19\n",
    ",19,7,8,18,8,18,0,99,12,15,11,4,99,23,19,19,7,4,99,99,14,13,99,17\n",
    ",8,15,19,0,19,7,8,17,3,11,8,13,4,99,19,4,23,19,5,8,13,0,11,12\n",
    ",4,18,18,0,99])"
   ]
  },
  {
   "cell_type": "markdown",
   "metadata": {},
   "source": [
    "## Labelling data"
   ]
  },
  {
   "cell_type": "code",
   "execution_count": 5,
   "metadata": {},
   "outputs": [],
   "source": [
    "chars = 'abcdefghijklmnopqrstuvwxyz'\n",
    "## Unrecognized character gives 99\n",
    "def encode_char(x):\n",
    "    try:\n",
    "        i = chars.index(x)\n",
    "        return i\n",
    "    except ValueError:\n",
    "        return 99"
   ]
  },
  {
   "cell_type": "code",
   "execution_count": 6,
   "metadata": {},
   "outputs": [
    {
     "name": "stdout",
     "output_type": "stream",
     "text": [
      "[ 7 14 15  4 19  7  8 18 22 99 10 18 99  5 11 13  0 15 17 14  9  4  2 19\n",
      " 19  7  8 18  8 18  0 99 12 15 11  4 99 23 19 19  7  4 99 99 14 13 99 17\n",
      "  8 15 19  0 19  7  8 17  3 11  8 13  4 99 19  4 23 19  5  8 13  0 11 12\n",
      "  4 18 18  0 99]\n"
     ]
    },
    {
     "data": {
      "image/png": "[encoded data removed]",
      "text/plain": [
       "<Figure size 640x480 with 10 Axes>"
      ]
     },
     "metadata": {},
     "output_type": "display_data"
    }
   ],
   "source": [
    "fig, axes = plt.subplots(10)\n",
    "for i in range(10,20):\n",
    "    axes[i%10].imshow(data[i,:,:], cmap = \"gray\")\n",
    "    axes[i%10].axis('off')\n",
    "\n",
    "# Manually set labels...\n",
    "# labels = 'e,-,t,e,x,t,f,i,n,a'.split(',')\n",
    "# y[60:70] = [encode_char(x) for x in labels]\n",
    "#print(np.shape(y))\n",
    "print(y)"
   ]
  },
  {
   "cell_type": "markdown",
   "metadata": {},
   "source": [
    "## Show data"
   ]
  },
  {
   "cell_type": "code",
   "execution_count": 7,
   "metadata": {},
   "outputs": [
    {
     "name": "stdout",
     "output_type": "stream",
     "text": [
      "Char dataset shape:  (77, 28, 28)\n"
     ]
    },
    {
     "data": {
      "image/png": "[encoded data removed]",
      "text/plain": [
       "<Figure size 640x480 with 1 Axes>"
      ]
     },
     "metadata": {},
     "output_type": "display_data"
    }
   ],
   "source": [
    "print(\"Char dataset shape: \", data.shape)\n",
    "k = np.random.randint(0, len(data))\n",
    "char = data[k,:,:]\n",
    "plt.imshow(char, cmap='gray')\n",
    "label = y[k,]\n",
    "\n",
    "if label == 99:\n",
    "    true_char = 'unknown'\n",
    "else:\n",
    "    true_char = chars[label]\n",
    "\n",
    "plt.title('Sample ' + str(k) + ', Label: '+ str(label) + ' --> ' + str(true_char));"
   ]
  },
  {
   "cell_type": "markdown",
   "metadata": {},
   "source": [
    "# Load EMNIST dataset"
   ]
  },
  {
   "cell_type": "code",
   "execution_count": 8,
   "metadata": {},
   "outputs": [
    {
     "name": "stdout",
     "output_type": "stream",
     "text": [
      "X train shape:  (124800, 784)\n",
      "y train shape:  (124800, 1)\n",
      "X test shape:  (20800, 784)\n",
      "y test shape:  (20800, 1)\n"
     ]
    }
   ],
   "source": [
    "emnist = scipy.io.loadmat('data/training/emnist-letters.mat')\n",
    "emnist_data = emnist['dataset']\n",
    "\n",
    "X_train = emnist_data['train'][0,0]['images'][0,0]\n",
    "y_train = emnist_data['train'][0,0]['labels'][0,0]\n",
    "\n",
    "X_test = emnist_data['test'][0,0]['images'][0,0]\n",
    "y_test = emnist_data['test'][0,0]['labels'][0,0]\n",
    "\n",
    "## Create validation set\n",
    "# val_start = X_train.shape[0] - X_test.shape[0]\n",
    "# X_val = X_train[val_start:X_train.shape[0],:]\n",
    "# y_val = y_train[val_start:X_train.shape[0]]\n",
    "# X_train = X_train[0:val_start,:]\n",
    "# y_train = y_train[0:val_start]\n",
    "\n",
    "\n",
    "print(\"X train shape: \", X_train.shape)\n",
    "print(\"y train shape: \", y_train.shape)\n",
    "print(\"X test shape: \", X_test.shape)\n",
    "print(\"y test shape: \", y_test.shape)\n",
    "\n",
    "# print(\"X validation shape: \", X_val.shape)\n",
    "# print(\"y validation shape: \", y_val.shape)\n",
    "\n",
    "# Scale data\n",
    "scaler = MinMaxScaler()\n",
    "X_train = scaler.fit_transform(X_train)\n",
    "#y_train = scaler.fit_transform(y_train)\n",
    "X_test = scaler.fit_transform(X_test)\n",
    "#y_test = scaler.fit_transform(y_test)"
   ]
  },
  {
   "cell_type": "code",
   "execution_count": 9,
   "metadata": {},
   "outputs": [
    {
     "data": {
      "text/plain": [
       "(124800, 28, 28)"
      ]
     },
     "execution_count": 9,
     "metadata": {},
     "output_type": "execute_result"
    },
    {
     "data": {
      "image/png": "[encoded data removed]",
      "text/plain": [
       "<Figure size 640x480 with 2 Axes>"
      ]
     },
     "metadata": {},
     "output_type": "display_data"
    }
   ],
   "source": [
    "X_train = X_train.reshape((X_train.shape[0], 28, 28), order='F')\n",
    "X_test = X_test.reshape((X_test.shape[0], 28, 28), order='F')\n",
    "\n",
    "rand_train = np.random.randint(0, len(X_train))\n",
    "rand_test = np.random.randint(0, len(X_test))\n",
    "\n",
    "train_char = X_train[rand_train,:,:]\n",
    "test_char = X_test[rand_test,:,:]\n",
    "\n",
    "train_label_i = y_train[rand_train,0]\n",
    "test_label_i = y_test[rand_test,0]\n",
    "# Translate labels to letter\n",
    "letters = 'abcdefghijklmnopqrstuvwxyz'\n",
    "train_label = letters[train_label_i-1]\n",
    "test_label = letters[test_label_i-1]\n",
    "\n",
    "fig, axes = plt.subplots(1,2)\n",
    "axes[0].imshow(train_char, cmap='gray')\n",
    "axes[0].set_title(f'Train Label: {train_label}, {train_label_i}')\n",
    "#plt.title(f'Label: {label}, {label_i}')\n",
    "axes[1].imshow(test_char, cmap='gray')\n",
    "axes[1].set_title(f'Test Label: {test_label}, {test_label_i}')\n",
    "\n",
    "\n",
    "\n",
    "X_train.shape"
   ]
  },
  {
   "cell_type": "code",
   "execution_count": 10,
   "metadata": {},
   "outputs": [],
   "source": [
    "# X_test = X_test.reshape((X_test.shape[0], 28, 28), order='F')\n",
    "\n",
    "# random_sample = np.random.randint(0, len(X_test))\n",
    "# char = X_test[random_sample,:,:]\n",
    "# label_i = y_test[random_sample,0]\n",
    "# # Translate labels to letter\n",
    "# letters = 'abcdefghijklmnopqrstuvwxyz'\n",
    "# label = letters[label_i-1]\n",
    "\n",
    "# plt.imshow(char, cmap='gray')\n",
    "# plt.title(f'Label: {label}, {label_i}')"
   ]
  },
  {
   "cell_type": "markdown",
   "metadata": {},
   "source": [
    "# Pre-training with EMNIST dataset"
   ]
  },
  {
   "cell_type": "code",
   "execution_count": 11,
   "metadata": {},
   "outputs": [],
   "source": [
    "# Add channel dimension\n",
    "X_train = X_train.reshape((X_train.shape[0],28,28,1))\n",
    "X_test = X_test.reshape((X_test.shape[0],28,28,1))\n",
    "\n",
    "\n",
    "model = K.models.Sequential([\n",
    "    K.layers.Conv2D(48, (4,4), activation='relu', input_shape=X_train.shape[1:]),\n",
    "    K.layers.MaxPool2D((2,2)),\n",
    "    K.layers.Conv2D(24, (6,3), activation='relu'),\n",
    "    K.layers.MaxPool2D((3,3)),\n",
    "    K.layers.Dropout(0.5),\n",
    "    K.layers.Flatten(),\n",
    "    K.layers.Dense(128, activation='relu'),\n",
    "    K.layers.Dense(27, activation='softmax')\n",
    "])"
   ]
  },
  {
   "cell_type": "code",
   "execution_count": 12,
   "metadata": {},
   "outputs": [
    {
     "name": "stdout",
     "output_type": "stream",
     "text": [
      "Epoch 1/10\n",
      "125/125 - 37s - loss: 1.9329 - accuracy: 0.4315 - val_loss: 0.7617 - val_accuracy: 0.7738 - 37s/epoch - 295ms/step\n",
      "Epoch 2/10\n",
      "125/125 - 35s - loss: 0.9871 - accuracy: 0.6967 - val_loss: 0.5670 - val_accuracy: 0.8292 - 35s/epoch - 278ms/step\n",
      "Epoch 3/10\n",
      "125/125 - 35s - loss: 0.8137 - accuracy: 0.7463 - val_loss: 0.4683 - val_accuracy: 0.8642 - 35s/epoch - 280ms/step\n",
      "Epoch 4/10\n",
      "125/125 - 35s - loss: 0.7188 - accuracy: 0.7762 - val_loss: 0.4125 - val_accuracy: 0.8767 - 35s/epoch - 280ms/step\n",
      "Epoch 5/10\n",
      "125/125 - 35s - loss: 0.6537 - accuracy: 0.7949 - val_loss: 0.3675 - val_accuracy: 0.8877 - 35s/epoch - 281ms/step\n",
      "Epoch 6/10\n",
      "125/125 - 35s - loss: 0.6105 - accuracy: 0.8080 - val_loss: 0.3477 - val_accuracy: 0.8940 - 35s/epoch - 280ms/step\n",
      "Epoch 7/10\n",
      "125/125 - 35s - loss: 0.5723 - accuracy: 0.8203 - val_loss: 0.3285 - val_accuracy: 0.8970 - 35s/epoch - 280ms/step\n",
      "Epoch 8/10\n",
      "125/125 - 35s - loss: 0.5451 - accuracy: 0.8270 - val_loss: 0.3096 - val_accuracy: 0.9041 - 35s/epoch - 282ms/step\n",
      "Epoch 9/10\n",
      "125/125 - 35s - loss: 0.5211 - accuracy: 0.8343 - val_loss: 0.2982 - val_accuracy: 0.9054 - 35s/epoch - 281ms/step\n",
      "Epoch 10/10\n",
      "125/125 - 37s - loss: 0.5022 - accuracy: 0.8411 - val_loss: 0.2908 - val_accuracy: 0.9075 - 37s/epoch - 294ms/step\n"
     ]
    }
   ],
   "source": [
    "model.compile(optimizer='adam', loss='sparse_categorical_crossentropy', metrics=['accuracy'])\n",
    "\n",
    "history = model.fit(X_train, y_train, epochs=10, batch_size=1000, verbose=2, validation_data=(X_test, y_test))"
   ]
  },
  {
   "cell_type": "code",
   "execution_count": 13,
   "metadata": {},
   "outputs": [
    {
     "data": {
      "image/png": "[encoded data removed]",
      "text/plain": [
       "<Figure size 640x480 with 1 Axes>"
      ]
     },
     "metadata": {},
     "output_type": "display_data"
    }
   ],
   "source": [
    "plt.title('Learning Curves')\n",
    "plt.xlabel('Epochs')\n",
    "plt.ylabel('Accuracy')\n",
    "plt.plot(history.history['accuracy'], label='train')\n",
    "plt.plot(history.history['val_accuracy'], label='val')\n",
    "plt.legend()\n",
    "plt.show()"
   ]
  },
  {
   "cell_type": "code",
   "execution_count": 14,
   "metadata": {},
   "outputs": [
    {
     "name": "stdout",
     "output_type": "stream",
     "text": [
      "Accuracy: 90.75000286102295\n"
     ]
    }
   ],
   "source": [
    "loss, accuracy = model.evaluate(X_test, y_test, verbose=0)\n",
    "print(f'Accuracy: {accuracy*100}')"
   ]
  },
  {
   "cell_type": "code",
   "execution_count": 15,
   "metadata": {},
   "outputs": [
    {
     "data": {
      "text/plain": [
       "['h',\n",
       " 'o',\n",
       " 'p',\n",
       " 'c',\n",
       " 't',\n",
       " 'h',\n",
       " 'i',\n",
       " 's',\n",
       " 'w',\n",
       " 'm',\n",
       " 'k',\n",
       " 's',\n",
       " 'l',\n",
       " 'f',\n",
       " 'x',\n",
       " 'm',\n",
       " 'a',\n",
       " 'p',\n",
       " 'r',\n",
       " 'g',\n",
       " 'j',\n",
       " 'e',\n",
       " 'e',\n",
       " 't',\n",
       " 't',\n",
       " 'm',\n",
       " 'l',\n",
       " 't',\n",
       " 'i',\n",
       " 's',\n",
       " 'a',\n",
       " 'u',\n",
       " 'm',\n",
       " 'p',\n",
       " 'i',\n",
       " 'e',\n",
       " 'u',\n",
       " 'x',\n",
       " 't',\n",
       " 'd',\n",
       " 'm',\n",
       " 'f',\n",
       " 'y',\n",
       " 'w',\n",
       " 'm',\n",
       " 'm',\n",
       " 'z',\n",
       " 'r',\n",
       " 'i',\n",
       " 'p',\n",
       " 't',\n",
       " 'a',\n",
       " 't',\n",
       " 'm',\n",
       " 'j',\n",
       " 'f',\n",
       " 'd',\n",
       " 'l',\n",
       " 'l',\n",
       " 'n',\n",
       " 'e',\n",
       " 'd',\n",
       " 't',\n",
       " 'c',\n",
       " 'x',\n",
       " 't',\n",
       " 'f',\n",
       " 'j',\n",
       " 'm',\n",
       " 'a',\n",
       " 'i',\n",
       " 'm',\n",
       " 'e',\n",
       " 's',\n",
       " 's',\n",
       " 'a',\n",
       " 'f']"
      ]
     },
     "execution_count": 15,
     "metadata": {},
     "output_type": "execute_result"
    }
   ],
   "source": [
    "data = data.reshape(data.shape[0],28,28,1)\n",
    "# make prediction\n",
    "proba = model.predict(data, verbose = 0)\n",
    "pred = [np.argmax(p) for p in proba]\n",
    "\n",
    "pred_chars = [chars[x-1] for x in pred]\n",
    "pred_chars"
   ]
  },
  {
   "cell_type": "code",
   "execution_count": 16,
   "metadata": {},
   "outputs": [
    {
     "data": {
      "image/png": "[encoded data removed]",
      "text/plain": [
       "<Figure size 640x480 with 1 Axes>"
      ]
     },
     "metadata": {},
     "output_type": "display_data"
    }
   ],
   "source": [
    "data = data.reshape(data.shape[0],28,28)\n",
    "k = np.random.randint(0,len(pred_chars))\n",
    "\n",
    "label = y[k]\n",
    "if label == 99:\n",
    "    true_char = 'unknown'\n",
    "else:\n",
    "    true_char = chars[label]\n",
    "\n",
    "plt.imshow(data[k,:,:], cmap='gray')\n",
    "plt.title(f\"Sample: {k}, Predicted: {pred_chars[k]}, True: {true_char}\");"
   ]
  },
  {
   "cell_type": "code",
   "execution_count": 57,
   "metadata": {},
   "outputs": [
    {
     "data": {
      "text/plain": [
       "[Text(0, 0.5, '-'),\n",
       " Text(0, 1.5, 'a'),\n",
       " Text(0, 2.5, 'c'),\n",
       " Text(0, 3.5, 'd'),\n",
       " Text(0, 4.5, 'e'),\n",
       " Text(0, 5.5, 'f'),\n",
       " Text(0, 6.5, 'g'),\n",
       " Text(0, 7.5, 'h'),\n",
       " Text(0, 8.5, 'i'),\n",
       " Text(0, 9.5, 'j'),\n",
       " Text(0, 10.5, 'k'),\n",
       " Text(0, 11.5, 'l'),\n",
       " Text(0, 12.5, 'm'),\n",
       " Text(0, 13.5, 'n'),\n",
       " Text(0, 14.5, 'o'),\n",
       " Text(0, 15.5, 'p'),\n",
       " Text(0, 16.5, 'r'),\n",
       " Text(0, 17.5, 's'),\n",
       " Text(0, 18.5, 't'),\n",
       " Text(0, 19.5, 'u'),\n",
       " Text(0, 20.5, 'w'),\n",
       " Text(0, 21.5, 'x'),\n",
       " Text(0, 22.5, 'y'),\n",
       " Text(0, 23.5, 'z')]"
      ]
     },
     "execution_count": 57,
     "metadata": {},
     "output_type": "execute_result"
    },
    {
     "data": {
      "image/png": "[encoded data removed]",
      "text/plain": [
       "<Figure size 1000x1000 with 2 Axes>"
      ]
     },
     "metadata": {},
     "output_type": "display_data"
    }
   ],
   "source": [
    "def to_char(index):\n",
    "    if index == 99:\n",
    "        return '-'\n",
    "    else:\n",
    "        return chars[index]\n",
    "\n",
    "y_true = [to_char(x) for x in y]\n",
    "y_pred = pred_chars\n",
    "\n",
    "set_total = set(y_pred).union(set(y_true))\n",
    "labels = sorted(list(set_total))\n",
    "\n",
    "cm = metrics.confusion_matrix(y_true, y_pred)\n",
    "fig = plt.figure(figsize=(10,10))\n",
    "ax = fig.add_subplot(111)\n",
    "sns.heatmap(cm, annot=True, fmt=\".0f\", linewidths=1, square = True);\n",
    "plt.ylabel('True label');\n",
    "plt.xlabel('Predicted label');\n",
    "plt.title('Accuracy Score: {0:.4f}'.format(accuracy*100), size = 12);\n",
    "ax.set_xticklabels(labels)\n",
    "ax.set_yticklabels(labels)\n",
    "\n",
    "\n"
   ]
  },
  {
   "cell_type": "code",
   "execution_count": 75,
   "metadata": {},
   "outputs": [
    {
     "name": "stdout",
     "output_type": "stream",
     "text": [
      "Misclassified: 31\n"
     ]
    },
    {
     "data": {
      "text/html": [
       "<div>\n",
       "<style scoped>\n",
       "    .dataframe tbody tr th:only-of-type {\n",
       "        vertical-align: middle;\n",
       "    }\n",
       "\n",
       "    .dataframe tbody tr th {\n",
       "        vertical-align: top;\n",
       "    }\n",
       "\n",
       "    .dataframe thead th {\n",
       "        text-align: right;\n",
       "    }\n",
       "</style>\n",
       "<table border=\"1\" class=\"dataframe\">\n",
       "  <thead>\n",
       "    <tr style=\"text-align: right;\">\n",
       "      <th></th>\n",
       "      <th>Pred</th>\n",
       "      <th>True</th>\n",
       "    </tr>\n",
       "  </thead>\n",
       "  <tbody>\n",
       "    <tr>\n",
       "      <th>3</th>\n",
       "      <td>c</td>\n",
       "      <td>e</td>\n",
       "    </tr>\n",
       "    <tr>\n",
       "      <th>9</th>\n",
       "      <td>m</td>\n",
       "      <td>-</td>\n",
       "    </tr>\n",
       "    <tr>\n",
       "      <th>12</th>\n",
       "      <td>l</td>\n",
       "      <td>-</td>\n",
       "    </tr>\n",
       "    <tr>\n",
       "      <th>14</th>\n",
       "      <td>x</td>\n",
       "      <td>l</td>\n",
       "    </tr>\n",
       "    <tr>\n",
       "      <th>15</th>\n",
       "      <td>m</td>\n",
       "      <td>n</td>\n",
       "    </tr>\n",
       "    <tr>\n",
       "      <th>19</th>\n",
       "      <td>g</td>\n",
       "      <td>o</td>\n",
       "    </tr>\n",
       "    <tr>\n",
       "      <th>22</th>\n",
       "      <td>e</td>\n",
       "      <td>c</td>\n",
       "    </tr>\n",
       "    <tr>\n",
       "      <th>25</th>\n",
       "      <td>m</td>\n",
       "      <td>h</td>\n",
       "    </tr>\n",
       "    <tr>\n",
       "      <th>26</th>\n",
       "      <td>l</td>\n",
       "      <td>i</td>\n",
       "    </tr>\n",
       "    <tr>\n",
       "      <th>27</th>\n",
       "      <td>t</td>\n",
       "      <td>s</td>\n",
       "    </tr>\n",
       "    <tr>\n",
       "      <th>31</th>\n",
       "      <td>u</td>\n",
       "      <td>-</td>\n",
       "    </tr>\n",
       "    <tr>\n",
       "      <th>34</th>\n",
       "      <td>i</td>\n",
       "      <td>l</td>\n",
       "    </tr>\n",
       "    <tr>\n",
       "      <th>36</th>\n",
       "      <td>u</td>\n",
       "      <td>-</td>\n",
       "    </tr>\n",
       "    <tr>\n",
       "      <th>39</th>\n",
       "      <td>d</td>\n",
       "      <td>t</td>\n",
       "    </tr>\n",
       "    <tr>\n",
       "      <th>40</th>\n",
       "      <td>m</td>\n",
       "      <td>h</td>\n",
       "    </tr>\n",
       "    <tr>\n",
       "      <th>41</th>\n",
       "      <td>f</td>\n",
       "      <td>e</td>\n",
       "    </tr>\n",
       "    <tr>\n",
       "      <th>42</th>\n",
       "      <td>y</td>\n",
       "      <td>-</td>\n",
       "    </tr>\n",
       "    <tr>\n",
       "      <th>43</th>\n",
       "      <td>w</td>\n",
       "      <td>-</td>\n",
       "    </tr>\n",
       "    <tr>\n",
       "      <th>44</th>\n",
       "      <td>m</td>\n",
       "      <td>o</td>\n",
       "    </tr>\n",
       "    <tr>\n",
       "      <th>45</th>\n",
       "      <td>m</td>\n",
       "      <td>n</td>\n",
       "    </tr>\n",
       "    <tr>\n",
       "      <th>46</th>\n",
       "      <td>z</td>\n",
       "      <td>-</td>\n",
       "    </tr>\n",
       "    <tr>\n",
       "      <th>53</th>\n",
       "      <td>m</td>\n",
       "      <td>h</td>\n",
       "    </tr>\n",
       "    <tr>\n",
       "      <th>54</th>\n",
       "      <td>j</td>\n",
       "      <td>i</td>\n",
       "    </tr>\n",
       "    <tr>\n",
       "      <th>55</th>\n",
       "      <td>f</td>\n",
       "      <td>r</td>\n",
       "    </tr>\n",
       "    <tr>\n",
       "      <th>58</th>\n",
       "      <td>l</td>\n",
       "      <td>i</td>\n",
       "    </tr>\n",
       "    <tr>\n",
       "      <th>61</th>\n",
       "      <td>d</td>\n",
       "      <td>-</td>\n",
       "    </tr>\n",
       "    <tr>\n",
       "      <th>63</th>\n",
       "      <td>c</td>\n",
       "      <td>e</td>\n",
       "    </tr>\n",
       "    <tr>\n",
       "      <th>67</th>\n",
       "      <td>j</td>\n",
       "      <td>i</td>\n",
       "    </tr>\n",
       "    <tr>\n",
       "      <th>68</th>\n",
       "      <td>m</td>\n",
       "      <td>n</td>\n",
       "    </tr>\n",
       "    <tr>\n",
       "      <th>70</th>\n",
       "      <td>i</td>\n",
       "      <td>l</td>\n",
       "    </tr>\n",
       "    <tr>\n",
       "      <th>76</th>\n",
       "      <td>f</td>\n",
       "      <td>-</td>\n",
       "    </tr>\n",
       "  </tbody>\n",
       "</table>\n",
       "</div>"
      ],
      "text/plain": [
       "   Pred True\n",
       "3     c    e\n",
       "9     m    -\n",
       "12    l    -\n",
       "14    x    l\n",
       "15    m    n\n",
       "19    g    o\n",
       "22    e    c\n",
       "25    m    h\n",
       "26    l    i\n",
       "27    t    s\n",
       "31    u    -\n",
       "34    i    l\n",
       "36    u    -\n",
       "39    d    t\n",
       "40    m    h\n",
       "41    f    e\n",
       "42    y    -\n",
       "43    w    -\n",
       "44    m    o\n",
       "45    m    n\n",
       "46    z    -\n",
       "53    m    h\n",
       "54    j    i\n",
       "55    f    r\n",
       "58    l    i\n",
       "61    d    -\n",
       "63    c    e\n",
       "67    j    i\n",
       "68    m    n\n",
       "70    i    l\n",
       "76    f    -"
      ]
     },
     "execution_count": 75,
     "metadata": {},
     "output_type": "execute_result"
    }
   ],
   "source": [
    "np.unique(y_pred)\n",
    "df = pd.DataFrame(columns=['Pred', 'True'])\n",
    "df.loc[:,'True'] = y_true\n",
    "df.loc[:,'Pred'] = y_pred\n",
    "\n",
    "df.sample(10)\n",
    "\n",
    "misclassified = df[df['Pred'] != df['True']]\n",
    "print(f\"Misclassified: {len(misclassified)}\")\n",
    "misclassified"
   ]
  },
  {
   "cell_type": "code",
   "execution_count": 84,
   "metadata": {},
   "outputs": [
    {
     "data": {
      "text/plain": [
       "{'c': 2,\n",
       " 'm': 8,\n",
       " 'l': 3,\n",
       " 'x': 1,\n",
       " 'g': 1,\n",
       " 'e': 1,\n",
       " 't': 1,\n",
       " 'u': 2,\n",
       " 'i': 2,\n",
       " 'd': 2,\n",
       " 'f': 3,\n",
       " 'y': 1,\n",
       " 'w': 1,\n",
       " 'z': 1,\n",
       " 'j': 2}"
      ]
     },
     "execution_count": 84,
     "metadata": {},
     "output_type": "execute_result"
    }
   ],
   "source": [
    "dict = {}\n",
    "for i in range(0,len(misclassified)):\n",
    "    pred = misclassified.iloc[i,0]\n",
    "    dict[pred] = dict.get(pred,0) + 1\n",
    "\n",
    "dict"
   ]
  }
 ],
 "metadata": {
  "kernelspec": {
   "display_name": "handwriting-project",
   "language": "python",
   "name": "python3"
  },
  "language_info": {
   "codemirror_mode": {
    "name": "ipython",
    "version": 3
   },
   "file_extension": ".py",
   "mimetype": "text/x-python",
   "name": "python",
   "nbconvert_exporter": "python",
   "pygments_lexer": "ipython3",
   "version": "3.11.4"
  }
 },
 "nbformat": 4,
 "nbformat_minor": 2
}
