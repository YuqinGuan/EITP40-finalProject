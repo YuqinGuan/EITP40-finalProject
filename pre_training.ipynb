{
 "cells": [
  {
   "cell_type": "code",
   "execution_count": 27,
   "metadata": {},
   "outputs": [],
   "source": [
    "from matplotlib import pyplot as plt\n",
    "from sklearn.preprocessing import MinMaxScaler, StandardScaler\n",
    "from sklearn import metrics\n",
    "import numpy as np\n",
    "import pandas as pd\n",
    "import scipy.io\n",
    "from tensorflow import keras as K, nn\n",
    "import seaborn as sns\n",
    "from keras.regularizers import l2"
   ]
  },
  {
   "cell_type": "markdown",
   "metadata": {},
   "source": [
    "# Load dataset of our own handwritten letters"
   ]
  },
  {
   "cell_type": "code",
   "execution_count": 2,
   "metadata": {},
   "outputs": [
    {
     "data": {
      "text/plain": [
       "(77, 28, 28)"
      ]
     },
     "execution_count": 2,
     "metadata": {},
     "output_type": "execute_result"
    }
   ],
   "source": [
    "# Load all char datasets of own handwriting to create larger dataset\n",
    "# chars1, chars2, chars3\n",
    "\n",
    "data1 = np.load('data/training/chars1.npy')\n",
    "data2 = np.load('data/training/chars2.npy')\n",
    "data3 = np.load('data/training/chars3.npy')\n",
    "\n",
    "np.concatenate\n",
    "data_total = np.concatenate((data1, data2, data3))\n",
    "data_total.shape"
   ]
  },
  {
   "cell_type": "markdown",
   "metadata": {},
   "source": [
    "## Normalize data"
   ]
  },
  {
   "cell_type": "code",
   "execution_count": 3,
   "metadata": {},
   "outputs": [],
   "source": [
    "data = data_total/255\n",
    "\n",
    "\n",
    "\n",
    "## Initialized once\n",
    "# y = np.empty(data.shape[0], dtype=np.uint8)\n",
    "y = np.array([7,14,15,4,19,7,8,18,22,99,10,18,99,5,11,13,0,15,17,14,9,4,2,19\n",
    ",19,7,8,18,8,18,0,99,12,15,11,4,99,23,19,19,7,4,99,99,14,13,99,17\n",
    ",8,15,19,0,19,7,8,17,3,11,8,13,4,99,19,4,23,19,5,8,13,0,11,12\n",
    ",4,18,18,0,99])"
   ]
  },
  {
   "cell_type": "markdown",
   "metadata": {},
   "source": [
    "## Labelling data"
   ]
  },
  {
   "cell_type": "code",
   "execution_count": 4,
   "metadata": {},
   "outputs": [],
   "source": [
    "chars = 'abcdefghijklmnopqrstuvwxyz'\n",
    "## Unrecognized character gives 99\n",
    "def encode_char(x):\n",
    "    try:\n",
    "        i = chars.index(x)\n",
    "        return i\n",
    "    except ValueError:\n",
    "        return 99"
   ]
  },
  {
   "cell_type": "code",
   "execution_count": 5,
   "metadata": {},
   "outputs": [
    {
     "name": "stdout",
     "output_type": "stream",
     "text": [
      "[ 7 14 15  4 19  7  8 18 22 99 10 18 99  5 11 13  0 15 17 14  9  4  2 19\n",
      " 19  7  8 18  8 18  0 99 12 15 11  4 99 23 19 19  7  4 99 99 14 13 99 17\n",
      "  8 15 19  0 19  7  8 17  3 11  8 13  4 99 19  4 23 19  5  8 13  0 11 12\n",
      "  4 18 18  0 99]\n"
     ]
    },
    {
     "data": {
      "image/png": "[encoded data removed]",
      "text/plain": [
       "<Figure size 640x480 with 10 Axes>"
      ]
     },
     "metadata": {},
     "output_type": "display_data"
    }
   ],
   "source": [
    "fig, axes = plt.subplots(10)\n",
    "for i in range(10,20):\n",
    "    axes[i%10].imshow(data[i,:,:], cmap = \"gray\")\n",
    "    axes[i%10].axis('off')\n",
    "\n",
    "# Manually set labels...\n",
    "# labels = 'e,-,t,e,x,t,f,i,n,a'.split(',')\n",
    "# y[60:70] = [encode_char(x) for x in labels]\n",
    "#print(np.shape(y))\n",
    "print(y)"
   ]
  },
  {
   "cell_type": "markdown",
   "metadata": {},
   "source": [
    "## Show data"
   ]
  },
  {
   "cell_type": "code",
   "execution_count": 19,
   "metadata": {},
   "outputs": [
    {
     "name": "stdout",
     "output_type": "stream",
     "text": [
      "Char dataset shape:  (77, 28, 28)\n"
     ]
    },
    {
     "data": {
      "image/png": "[encoded data removed]",
      "text/plain": [
       "<Figure size 640x480 with 1 Axes>"
      ]
     },
     "metadata": {},
     "output_type": "display_data"
    }
   ],
   "source": [
    "print(\"Char dataset shape: \", data.shape)\n",
    "k = np.random.randint(0, len(data))\n",
    "char = data[k,:,:]\n",
    "plt.imshow(char, cmap='gray')\n",
    "label = y[k,]\n",
    "\n",
    "if label == 99:\n",
    "    true_char = 'unknown'\n",
    "else:\n",
    "    true_char = chars[label]\n",
    "\n",
    "plt.title('Sample ' + str(k) + ', Label: '+ str(label) + ' --> ' + str(true_char));"
   ]
  },
  {
   "cell_type": "markdown",
   "metadata": {},
   "source": [
    "# Load EMNIST dataset"
   ]
  },
  {
   "cell_type": "code",
   "execution_count": 21,
   "metadata": {},
   "outputs": [
    {
     "name": "stdout",
     "output_type": "stream",
     "text": [
      "X train shape:  (124800, 784)\n",
      "y train shape:  (124800, 1)\n",
      "X test shape:  (20800, 784)\n",
      "y test shape:  (20800, 1)\n"
     ]
    }
   ],
   "source": [
    "emnist = scipy.io.loadmat('data/training/emnist-letters.mat')\n",
    "emnist_data = emnist['dataset']\n",
    "\n",
    "X_train = emnist_data['train'][0,0]['images'][0,0]\n",
    "y_train = emnist_data['train'][0,0]['labels'][0,0]\n",
    "\n",
    "X_test = emnist_data['test'][0,0]['images'][0,0]\n",
    "y_test = emnist_data['test'][0,0]['labels'][0,0]\n",
    "\n",
    "## Create validation set\n",
    "# val_start = X_train.shape[0] - X_test.shape[0]\n",
    "# X_val = X_train[val_start:X_train.shape[0],:]\n",
    "# y_val = y_train[val_start:X_train.shape[0]]\n",
    "# X_train = X_train[0:val_start,:]\n",
    "# y_train = y_train[0:val_start]\n",
    "\n",
    "\n",
    "print(\"X train shape: \", X_train.shape)\n",
    "print(\"y train shape: \", y_train.shape)\n",
    "print(\"X test shape: \", X_test.shape)\n",
    "print(\"y test shape: \", y_test.shape)\n",
    "\n",
    "# print(\"X validation shape: \", X_val.shape)\n",
    "# print(\"y validation shape: \", y_val.shape)\n",
    "\n",
    "# Scale data\n",
    "scaler = MinMaxScaler()\n",
    "X_train = scaler.fit_transform(X_train)\n",
    "#y_train = scaler.fit_transform(y_train)\n",
    "X_test = scaler.fit_transform(X_test)\n",
    "#y_test = scaler.fit_transform(y_test)"
   ]
  },
  {
   "cell_type": "code",
   "execution_count": 24,
   "metadata": {},
   "outputs": [
    {
     "data": {
      "text/plain": [
       "Text(0.5, 1.0, 'Test Label: d, 4')"
      ]
     },
     "execution_count": 24,
     "metadata": {},
     "output_type": "execute_result"
    },
    {
     "data": {
      "image/png": "[encoded data removed]",
      "text/plain": [
       "<Figure size 640x480 with 2 Axes>"
      ]
     },
     "metadata": {},
     "output_type": "display_data"
    }
   ],
   "source": [
    "X_train = X_train.reshape((X_train.shape[0], 28, 28), order='F')\n",
    "X_test = X_test.reshape((X_test.shape[0], 28, 28), order='F')\n",
    "\n",
    "rand_train = np.random.randint(0, len(X_train))\n",
    "rand_test = np.random.randint(0, len(X_test))\n",
    "\n",
    "train_char = X_train[rand_train,:,:]\n",
    "test_char = X_test[rand_test,:,:]\n",
    "\n",
    "train_label_i = y_train[rand_train,0]\n",
    "test_label_i = y_test[rand_test,0]\n",
    "# Translate labels to letter\n",
    "letters = 'abcdefghijklmnopqrstuvwxyz'\n",
    "train_label = letters[train_label_i-1]\n",
    "test_label = letters[test_label_i-1]\n",
    "\n",
    "fig, axes = plt.subplots(1,2)\n",
    "axes[0].imshow(train_char, cmap='gray')\n",
    "axes[0].set_title(f'Train Label: {train_label}, {train_label_i}')\n",
    "#plt.title(f'Label: {label}, {label_i}')\n",
    "axes[1].imshow(test_char, cmap='gray')\n",
    "axes[1].set_title(f'Test Label: {test_label}, {test_label_i}')"
   ]
  },
  {
   "cell_type": "code",
   "execution_count": 53,
   "metadata": {},
   "outputs": [],
   "source": [
    "# X_test = X_test.reshape((X_test.shape[0], 28, 28), order='F')\n",
    "\n",
    "# random_sample = np.random.randint(0, len(X_test))\n",
    "# char = X_test[random_sample,:,:]\n",
    "# label_i = y_test[random_sample,0]\n",
    "# # Translate labels to letter\n",
    "# letters = 'abcdefghijklmnopqrstuvwxyz'\n",
    "# label = letters[label_i-1]\n",
    "\n",
    "# plt.imshow(char, cmap='gray')\n",
    "# plt.title(f'Label: {label}, {label_i}')\n",
    "\n"
   ]
  },
  {
   "cell_type": "markdown",
   "metadata": {},
   "source": [
    "# Pre-training with EMNIST dataset"
   ]
  },
  {
   "cell_type": "code",
   "execution_count": 44,
   "metadata": {},
   "outputs": [
    {
     "name": "stdout",
     "output_type": "stream",
     "text": [
      "Model: \"sequential_7\"\n",
      "_________________________________________________________________\n",
      " Layer (type)                Output Shape              Param #   \n",
      "=================================================================\n",
      " conv2d_17 (Conv2D)          (None, 25, 25, 32)        544       \n",
      "                                                                 \n",
      " max_pooling2d_17 (MaxPooli  (None, 12, 12, 32)        0         \n",
      " ng2D)                                                           \n",
      "                                                                 \n",
      " conv2d_18 (Conv2D)          (None, 10, 10, 24)        6936      \n",
      "                                                                 \n",
      " max_pooling2d_18 (MaxPooli  (None, 5, 5, 24)          0         \n",
      " ng2D)                                                           \n",
      "                                                                 \n",
      " dropout_7 (Dropout)         (None, 5, 5, 24)          0         \n",
      "                                                                 \n",
      " flatten_7 (Flatten)         (None, 600)               0         \n",
      "                                                                 \n",
      " dense_14 (Dense)            (None, 40)                24040     \n",
      "                                                                 \n",
      " dense_15 (Dense)            (None, 27)                1107      \n",
      "                                                                 \n",
      "=================================================================\n",
      "Total params: 32627 (127.45 KB)\n",
      "Trainable params: 32627 (127.45 KB)\n",
      "Non-trainable params: 0 (0.00 Byte)\n",
      "_________________________________________________________________\n"
     ]
    }
   ],
   "source": [
    "# Add channel dimension\n",
    "X_train = X_train.reshape((X_train.shape[0],28,28,1))\n",
    "X_test = X_test.reshape((X_test.shape[0],28,28,1))\n",
    "\n",
    "\n",
    "model = K.models.Sequential([\n",
    "    K.layers.Conv2D(32, (4,4), activation='relu',kernel_regularizer=l2(0.01), input_shape=X_train.shape[1:]),\n",
    "    K.layers.MaxPool2D((2,2)),\n",
    "    K.layers.Conv2D(24, (3,3), activation='relu',kernel_regularizer=l2(0.01)),\n",
    "    K.layers.MaxPool2D((2,2)),\n",
    "    K.layers.Dropout(0.2),\n",
    "    K.layers.Flatten(),\n",
    "    K.layers.Dense(40, activation='relu',kernel_regularizer=l2(0.01)),\n",
    "    K.layers.Dense(len(letters) + 1, activation='softmax')\n",
    "])\n",
    "model.summary()"
   ]
  },
  {
   "cell_type": "code",
   "execution_count": 46,
   "metadata": {},
   "outputs": [
    {
     "name": "stdout",
     "output_type": "stream",
     "text": [
      "Epoch 1/25\n",
      "125/125 - 17s - loss: 1.8738 - accuracy: 0.4995 - val_loss: 0.8917 - val_accuracy: 0.7723 - 17s/epoch - 135ms/step\n",
      "Epoch 2/25\n",
      "125/125 - 16s - loss: 0.7994 - accuracy: 0.7843 - val_loss: 0.5987 - val_accuracy: 0.8457 - 16s/epoch - 130ms/step\n",
      "Epoch 3/25\n",
      "125/125 - 15s - loss: 0.6116 - accuracy: 0.8338 - val_loss: 0.4965 - val_accuracy: 0.8713 - 15s/epoch - 124ms/step\n",
      "Epoch 4/25\n",
      "125/125 - 15s - loss: 0.5316 - accuracy: 0.8550 - val_loss: 0.4546 - val_accuracy: 0.8804 - 15s/epoch - 124ms/step\n",
      "Epoch 5/25\n",
      "125/125 - 15s - loss: 0.4885 - accuracy: 0.8664 - val_loss: 0.4175 - val_accuracy: 0.8901 - 15s/epoch - 124ms/step\n",
      "Epoch 6/25\n",
      "125/125 - 15s - loss: 0.4550 - accuracy: 0.8756 - val_loss: 0.3972 - val_accuracy: 0.8976 - 15s/epoch - 124ms/step\n",
      "Epoch 7/25\n",
      "125/125 - 15s - loss: 0.4294 - accuracy: 0.8827 - val_loss: 0.3856 - val_accuracy: 0.8974 - 15s/epoch - 124ms/step\n",
      "Epoch 8/25\n",
      "125/125 - 15s - loss: 0.4127 - accuracy: 0.8857 - val_loss: 0.3658 - val_accuracy: 0.9053 - 15s/epoch - 124ms/step\n",
      "Epoch 9/25\n",
      "125/125 - 15s - loss: 0.3952 - accuracy: 0.8905 - val_loss: 0.3600 - val_accuracy: 0.9053 - 15s/epoch - 124ms/step\n",
      "Epoch 10/25\n",
      "125/125 - 15s - loss: 0.3863 - accuracy: 0.8945 - val_loss: 0.3476 - val_accuracy: 0.9085 - 15s/epoch - 124ms/step\n",
      "Epoch 11/25\n",
      "125/125 - 16s - loss: 0.3751 - accuracy: 0.8969 - val_loss: 0.3389 - val_accuracy: 0.9124 - 16s/epoch - 124ms/step\n",
      "Epoch 12/25\n",
      "125/125 - 15s - loss: 0.3664 - accuracy: 0.8996 - val_loss: 0.3320 - val_accuracy: 0.9135 - 15s/epoch - 124ms/step\n",
      "Epoch 13/25\n",
      "125/125 - 15s - loss: 0.3575 - accuracy: 0.9028 - val_loss: 0.3284 - val_accuracy: 0.9150 - 15s/epoch - 124ms/step\n",
      "Epoch 14/25\n",
      "125/125 - 15s - loss: 0.3516 - accuracy: 0.9038 - val_loss: 0.3242 - val_accuracy: 0.9154 - 15s/epoch - 124ms/step\n",
      "Epoch 15/25\n",
      "125/125 - 15s - loss: 0.3456 - accuracy: 0.9050 - val_loss: 0.3252 - val_accuracy: 0.9153 - 15s/epoch - 124ms/step\n",
      "Epoch 16/25\n",
      "125/125 - 16s - loss: 0.3418 - accuracy: 0.9056 - val_loss: 0.3164 - val_accuracy: 0.9188 - 16s/epoch - 124ms/step\n",
      "Epoch 17/25\n",
      "125/125 - 15s - loss: 0.3377 - accuracy: 0.9076 - val_loss: 0.3089 - val_accuracy: 0.9193 - 15s/epoch - 124ms/step\n",
      "Epoch 18/25\n",
      "125/125 - 16s - loss: 0.3336 - accuracy: 0.9080 - val_loss: 0.3119 - val_accuracy: 0.9179 - 16s/epoch - 127ms/step\n",
      "Epoch 19/25\n",
      "125/125 - 16s - loss: 0.3279 - accuracy: 0.9104 - val_loss: 0.3071 - val_accuracy: 0.9201 - 16s/epoch - 125ms/step\n",
      "Epoch 20/25\n",
      "125/125 - 16s - loss: 0.3268 - accuracy: 0.9102 - val_loss: 0.3019 - val_accuracy: 0.9208 - 16s/epoch - 125ms/step\n",
      "Epoch 21/25\n",
      "125/125 - 16s - loss: 0.3202 - accuracy: 0.9122 - val_loss: 0.2985 - val_accuracy: 0.9213 - 16s/epoch - 126ms/step\n",
      "Epoch 22/25\n",
      "125/125 - 16s - loss: 0.3179 - accuracy: 0.9121 - val_loss: 0.2979 - val_accuracy: 0.9216 - 16s/epoch - 127ms/step\n",
      "Epoch 23/25\n",
      "125/125 - 16s - loss: 0.3157 - accuracy: 0.9127 - val_loss: 0.2971 - val_accuracy: 0.9225 - 16s/epoch - 126ms/step\n",
      "Epoch 24/25\n",
      "125/125 - 16s - loss: 0.3114 - accuracy: 0.9141 - val_loss: 0.2906 - val_accuracy: 0.9217 - 16s/epoch - 125ms/step\n",
      "Epoch 25/25\n",
      "125/125 - 16s - loss: 0.3082 - accuracy: 0.9149 - val_loss: 0.2913 - val_accuracy: 0.9227 - 16s/epoch - 125ms/step\n"
     ]
    }
   ],
   "source": [
    "model.compile(optimizer='adam', loss='sparse_categorical_crossentropy', metrics=['accuracy'])\n",
    "\n",
    "history = model.fit(X_train, y_train, epochs=25, batch_size=1000, verbose=2, validation_data=(X_test, y_test))"
   ]
  },
  {
   "cell_type": "code",
   "execution_count": 47,
   "metadata": {},
   "outputs": [
    {
     "data": {
      "image/png": "[encoded data removed]",
      "text/plain": [
       "<Figure size 640x480 with 1 Axes>"
      ]
     },
     "metadata": {},
     "output_type": "display_data"
    }
   ],
   "source": [
    "plt.title('Learning Curves')\n",
    "plt.xlabel('Epochs')\n",
    "plt.ylabel('Accuracy')\n",
    "plt.plot(history.history['accuracy'], label='train')\n",
    "plt.plot(history.history['val_accuracy'], label='validation')\n",
    "plt.legend()\n",
    "plt.grid()\n",
    "plt.show()"
   ]
  },
  {
   "cell_type": "code",
   "execution_count": 48,
   "metadata": {},
   "outputs": [
    {
     "name": "stdout",
     "output_type": "stream",
     "text": [
      "Accuracy: 92.26922988891602\n"
     ]
    }
   ],
   "source": [
    "loss, accuracy = model.evaluate(X_test, y_test, verbose=0)\n",
    "print(f'Accuracy: {accuracy*100}')"
   ]
  },
  {
   "cell_type": "markdown",
   "metadata": {},
   "source": [
    "# Predict our own handwritten characters"
   ]
  },
  {
   "cell_type": "code",
   "execution_count": 53,
   "metadata": {},
   "outputs": [
    {
     "name": "stdout",
     "output_type": "stream",
     "text": [
      "(77,)\n",
      "['h', 'o', 'p', 'c', 't', 'h', 'i', 's', 'w', 'n', 'k', 's', 'i', 'f', 'i', 'n', 'a', 'p', 'r', 'o', 'i', 'e', 'e', 't', 't', 'n', 'i', 't', 'i', 'j', 'a', 'u', 'm', 'p', 'i', 'e', 'u', 'x', 'e', 'i', 'r', 'e', 'q', 'w', 'e', 'a', 'z', 'i', 'i', 'p', 'e', 'a', 't', 'n', 'i', 'r', 'b', 'l', 'i', 'n', 'c', 'h', 'k', 'c', 'x', 'e', 'f', 'i', 'r', 'a', 'i', 'm', 'e', 's', 's', 'a', 'g']\n"
     ]
    }
   ],
   "source": [
    "data = data.reshape(data.shape[0],28,28,1)\n",
    "# make prediction\n",
    "proba = model.predict(data, verbose = 0)\n",
    "pred = [np.argmax(p) for p in proba]\n",
    "\n",
    "\n",
    "pred_chars = [chars[x-1] for x in pred]\n",
    "\n",
    "np.reshape(pred_chars, (1, len(pred_chars)), order='F')\n",
    "print(pred_chars)\n"
   ]
  },
  {
   "cell_type": "code",
   "execution_count": 54,
   "metadata": {},
   "outputs": [
    {
     "data": {
      "image/png": "[encoded data removed]",
      "text/plain": [
       "<Figure size 640x480 with 1 Axes>"
      ]
     },
     "metadata": {},
     "output_type": "display_data"
    }
   ],
   "source": [
    "data = data.reshape(data.shape[0],28,28)\n",
    "k = np.random.randint(0,len(pred_chars))\n",
    "\n",
    "label = y[k]\n",
    "if label == 99:\n",
    "    true_char = 'unknown'\n",
    "else:\n",
    "    true_char = chars[label]\n",
    "\n",
    "plt.imshow(data[k,:,:], cmap='gray')\n",
    "plt.title(f\"Sample: {k}, Predicted: {pred_chars[k]}, True: {true_char}\");"
   ]
  },
  {
   "cell_type": "markdown",
   "metadata": {},
   "source": [
    "## Confusion Matrix"
   ]
  },
  {
   "cell_type": "code",
   "execution_count": 55,
   "metadata": {},
   "outputs": [
    {
     "data": {
      "image/png": "[encoded data removed]",
      "text/plain": [
       "<Figure size 1000x1000 with 2 Axes>"
      ]
     },
     "metadata": {},
     "output_type": "display_data"
    }
   ],
   "source": [
    "def to_char(index):\n",
    "    if index == 99:\n",
    "        return '-'\n",
    "    else:\n",
    "        return chars[index]\n",
    "\n",
    "y_true = [to_char(x) for x in y]\n",
    "y_pred = pred_chars\n",
    "\n",
    "## Locate misclassified characters\n",
    "df = pd.DataFrame(columns=['Pred', 'True'])\n",
    "df.loc[:,'True'] = y_true\n",
    "df.loc[:,'Pred'] = y_pred\n",
    "misclassified = df[df['Pred'] != df['True']]\n",
    "acc = 1-(len(misclassified)/len(y_pred))\n",
    "\n",
    "## Confusion matrix\n",
    "set_total = set(y_pred).union(set(y_true))\n",
    "labels = sorted(list(set_total))\n",
    "\n",
    "cm = metrics.confusion_matrix(y_true, y_pred)\n",
    "fig = plt.figure(figsize=(10,10))\n",
    "ax = fig.add_subplot(111)\n",
    "sns.heatmap(cm, annot=True, fmt=\".0f\", linewidths=1, square=True);\n",
    "plt.ylabel('True label');\n",
    "plt.xlabel('Predicted label');\n",
    "plt.title('Accuracy Score: {0:.2f}'.format(acc*100), size=12);\n",
    "ax.set_xticklabels(labels);\n",
    "ax.set_yticklabels(labels);"
   ]
  },
  {
   "cell_type": "code",
   "execution_count": 74,
   "metadata": {},
   "outputs": [
    {
     "name": "stdout",
     "output_type": "stream",
     "text": [
      "Misclassified: 27\n"
     ]
    },
    {
     "data": {
      "text/html": [
       "<div>\n",
       "<style scoped>\n",
       "    .dataframe tbody tr th:only-of-type {\n",
       "        vertical-align: middle;\n",
       "    }\n",
       "\n",
       "    .dataframe tbody tr th {\n",
       "        vertical-align: top;\n",
       "    }\n",
       "\n",
       "    .dataframe thead th {\n",
       "        text-align: right;\n",
       "    }\n",
       "</style>\n",
       "<table border=\"1\" class=\"dataframe\">\n",
       "  <thead>\n",
       "    <tr style=\"text-align: right;\">\n",
       "      <th></th>\n",
       "      <th>Pred</th>\n",
       "      <th>True</th>\n",
       "    </tr>\n",
       "  </thead>\n",
       "  <tbody>\n",
       "    <tr>\n",
       "      <th>3</th>\n",
       "      <td>c</td>\n",
       "      <td>e</td>\n",
       "    </tr>\n",
       "    <tr>\n",
       "      <th>9</th>\n",
       "      <td>m</td>\n",
       "      <td>-</td>\n",
       "    </tr>\n",
       "    <tr>\n",
       "      <th>12</th>\n",
       "      <td>p</td>\n",
       "      <td>-</td>\n",
       "    </tr>\n",
       "    <tr>\n",
       "      <th>14</th>\n",
       "      <td>x</td>\n",
       "      <td>l</td>\n",
       "    </tr>\n",
       "    <tr>\n",
       "      <th>21</th>\n",
       "      <td>c</td>\n",
       "      <td>e</td>\n",
       "    </tr>\n",
       "    <tr>\n",
       "      <th>25</th>\n",
       "      <td>n</td>\n",
       "      <td>h</td>\n",
       "    </tr>\n",
       "    <tr>\n",
       "      <th>27</th>\n",
       "      <td>t</td>\n",
       "      <td>s</td>\n",
       "    </tr>\n",
       "    <tr>\n",
       "      <th>31</th>\n",
       "      <td>a</td>\n",
       "      <td>-</td>\n",
       "    </tr>\n",
       "    <tr>\n",
       "      <th>34</th>\n",
       "      <td>i</td>\n",
       "      <td>l</td>\n",
       "    </tr>\n",
       "    <tr>\n",
       "      <th>36</th>\n",
       "      <td>u</td>\n",
       "      <td>-</td>\n",
       "    </tr>\n",
       "    <tr>\n",
       "      <th>41</th>\n",
       "      <td>c</td>\n",
       "      <td>e</td>\n",
       "    </tr>\n",
       "    <tr>\n",
       "      <th>42</th>\n",
       "      <td>y</td>\n",
       "      <td>-</td>\n",
       "    </tr>\n",
       "    <tr>\n",
       "      <th>43</th>\n",
       "      <td>w</td>\n",
       "      <td>-</td>\n",
       "    </tr>\n",
       "    <tr>\n",
       "      <th>44</th>\n",
       "      <td>m</td>\n",
       "      <td>o</td>\n",
       "    </tr>\n",
       "    <tr>\n",
       "      <th>45</th>\n",
       "      <td>m</td>\n",
       "      <td>n</td>\n",
       "    </tr>\n",
       "    <tr>\n",
       "      <th>46</th>\n",
       "      <td>e</td>\n",
       "      <td>-</td>\n",
       "    </tr>\n",
       "    <tr>\n",
       "      <th>47</th>\n",
       "      <td>i</td>\n",
       "      <td>r</td>\n",
       "    </tr>\n",
       "    <tr>\n",
       "      <th>53</th>\n",
       "      <td>m</td>\n",
       "      <td>h</td>\n",
       "    </tr>\n",
       "    <tr>\n",
       "      <th>55</th>\n",
       "      <td>f</td>\n",
       "      <td>r</td>\n",
       "    </tr>\n",
       "    <tr>\n",
       "      <th>57</th>\n",
       "      <td>i</td>\n",
       "      <td>l</td>\n",
       "    </tr>\n",
       "    <tr>\n",
       "      <th>60</th>\n",
       "      <td>c</td>\n",
       "      <td>e</td>\n",
       "    </tr>\n",
       "    <tr>\n",
       "      <th>61</th>\n",
       "      <td>d</td>\n",
       "      <td>-</td>\n",
       "    </tr>\n",
       "    <tr>\n",
       "      <th>62</th>\n",
       "      <td>b</td>\n",
       "      <td>t</td>\n",
       "    </tr>\n",
       "    <tr>\n",
       "      <th>63</th>\n",
       "      <td>c</td>\n",
       "      <td>e</td>\n",
       "    </tr>\n",
       "    <tr>\n",
       "      <th>70</th>\n",
       "      <td>i</td>\n",
       "      <td>l</td>\n",
       "    </tr>\n",
       "    <tr>\n",
       "      <th>74</th>\n",
       "      <td>f</td>\n",
       "      <td>s</td>\n",
       "    </tr>\n",
       "    <tr>\n",
       "      <th>76</th>\n",
       "      <td>f</td>\n",
       "      <td>-</td>\n",
       "    </tr>\n",
       "  </tbody>\n",
       "</table>\n",
       "</div>"
      ],
      "text/plain": [
       "   Pred True\n",
       "3     c    e\n",
       "9     m    -\n",
       "12    p    -\n",
       "14    x    l\n",
       "21    c    e\n",
       "25    n    h\n",
       "27    t    s\n",
       "31    a    -\n",
       "34    i    l\n",
       "36    u    -\n",
       "41    c    e\n",
       "42    y    -\n",
       "43    w    -\n",
       "44    m    o\n",
       "45    m    n\n",
       "46    e    -\n",
       "47    i    r\n",
       "53    m    h\n",
       "55    f    r\n",
       "57    i    l\n",
       "60    c    e\n",
       "61    d    -\n",
       "62    b    t\n",
       "63    c    e\n",
       "70    i    l\n",
       "74    f    s\n",
       "76    f    -"
      ]
     },
     "execution_count": 74,
     "metadata": {},
     "output_type": "execute_result"
    }
   ],
   "source": [
    "print(f\"Misclassified: {len(misclassified)}\")\n",
    "misclassified"
   ]
  },
  {
   "cell_type": "code",
   "execution_count": 56,
   "metadata": {},
   "outputs": [
    {
     "data": {
      "text/plain": [
       "{'c': 3,\n",
       " 'n': 3,\n",
       " 'i': 7,\n",
       " 'e': 5,\n",
       " 't': 1,\n",
       " 'j': 1,\n",
       " 'u': 2,\n",
       " 'r': 2,\n",
       " 'q': 1,\n",
       " 'w': 1,\n",
       " 'a': 1,\n",
       " 'z': 1,\n",
       " 'b': 1,\n",
       " 'h': 1,\n",
       " 'k': 1,\n",
       " 'g': 1}"
      ]
     },
     "execution_count": 56,
     "metadata": {},
     "output_type": "execute_result"
    }
   ],
   "source": [
    "## Dictionary with frequency of misclassified characters\n",
    "dict = {}\n",
    "for i in range(0,len(misclassified)):\n",
    "    pred = misclassified.iloc[i,0]\n",
    "    dict[pred] = dict.get(pred,0) + 1\n",
    "dict"
   ]
  }
 ],
 "metadata": {
  "kernelspec": {
   "display_name": "handwriting-project",
   "language": "python",
   "name": "python3"
  },
  "language_info": {
   "codemirror_mode": {
    "name": "ipython",
    "version": 3
   },
   "file_extension": ".py",
   "mimetype": "text/x-python",
   "name": "python",
   "nbconvert_exporter": "python",
   "pygments_lexer": "ipython3",
   "version": "3.11.5"
  }
 },
 "nbformat": 4,
 "nbformat_minor": 2
}
