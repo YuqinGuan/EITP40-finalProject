{
 "cells": [
  {
   "cell_type": "code",
   "execution_count": 266,
   "metadata": {},
   "outputs": [],
   "source": [
    "from matplotlib import pyplot as plt\n",
    "from sklearn.preprocessing import MinMaxScaler, StandardScaler\n",
    "from sklearn import metrics\n",
    "import numpy as np\n",
    "import pandas as pd\n",
    "import scipy.io\n",
    "from tensorflow import keras as K, nn\n",
    "import seaborn as sns\n",
    "from keras.regularizers import l2"
   ]
  },
  {
   "cell_type": "markdown",
   "metadata": {},
   "source": [
    "# Load dataset of our own handwritten letters"
   ]
  },
  {
   "cell_type": "code",
   "execution_count": 267,
   "metadata": {},
   "outputs": [
    {
     "data": {
      "text/plain": [
       "(77, 28, 28)"
      ]
     },
     "execution_count": 267,
     "metadata": {},
     "output_type": "execute_result"
    }
   ],
   "source": [
    "# Load all char datasets of own handwriting to create larger dataset\n",
    "# chars1, chars2, chars3\n",
    "\n",
    "data1 = np.load('data/training/chars1.npy')\n",
    "data2 = np.load('data/training/chars2.npy')\n",
    "data3 = np.load('data/training/chars3.npy')\n",
    "\n",
    "np.concatenate\n",
    "data_total = np.concatenate((data1, data2, data3))\n",
    "data_total.shape"
   ]
  },
  {
   "cell_type": "markdown",
   "metadata": {},
   "source": [
    "## Normalize data"
   ]
  },
  {
   "cell_type": "code",
   "execution_count": 268,
   "metadata": {},
   "outputs": [],
   "source": [
    "data = data_total/255\n",
    "\n",
    "\n",
    "\n",
    "## Initialized once\n",
    "# y = np.empty(data.shape[0], dtype=np.uint8)\n",
    "y = np.array([7,14,15,4,19,7,8,18,22,99,10,18,99,5,11,13,0,15,17,14,9,4,2,19\n",
    ",19,7,8,18,8,18,0,99,12,15,11,4,99,23,19,19,7,4,99,99,14,13,99,17\n",
    ",8,15,19,0,19,7,8,17,3,11,8,13,4,99,19,4,23,19,5,8,13,0,11,12\n",
    ",4,18,18,0,99])"
   ]
  },
  {
   "cell_type": "markdown",
   "metadata": {},
   "source": [
    "## Labelling data"
   ]
  },
  {
   "cell_type": "code",
   "execution_count": 269,
   "metadata": {},
   "outputs": [],
   "source": [
    "chars = 'abcdefghijklmnopqrstuvwxyz'\n",
    "## Unrecognized character gives 99\n",
    "def encode_char(x):\n",
    "    try:\n",
    "        i = chars.index(x)\n",
    "        return i\n",
    "    except ValueError:\n",
    "        return 99"
   ]
  },
  {
   "cell_type": "code",
   "execution_count": 270,
   "metadata": {},
   "outputs": [
    {
     "name": "stdout",
     "output_type": "stream",
     "text": [
      "[ 7 14 15  4 19  7  8 18 22 99 10 18 99  5 11 13  0 15 17 14  9  4  2 19\n",
      " 19  7  8 18  8 18  0 99 12 15 11  4 99 23 19 19  7  4 99 99 14 13 99 17\n",
      "  8 15 19  0 19  7  8 17  3 11  8 13  4 99 19  4 23 19  5  8 13  0 11 12\n",
      "  4 18 18  0 99]\n"
     ]
    },
    {
     "data": {
      "image/png": "[encoded data removed]",
      "text/plain": [
       "<Figure size 640x480 with 10 Axes>"
      ]
     },
     "metadata": {},
     "output_type": "display_data"
    }
   ],
   "source": [
    "fig, axes = plt.subplots(10)\n",
    "for i in range(10,20):\n",
    "    axes[i%10].imshow(data[i,:,:], cmap = \"gray\")\n",
    "    axes[i%10].axis('off')\n",
    "\n",
    "# Manually set labels...\n",
    "# labels = 'e,-,t,e,x,t,f,i,n,a'.split(',')\n",
    "# y[60:70] = [encode_char(x) for x in labels]\n",
    "#print(np.shape(y))\n",
    "print(y)"
   ]
  },
  {
   "cell_type": "markdown",
   "metadata": {},
   "source": [
    "## Show data"
   ]
  },
  {
   "cell_type": "code",
   "execution_count": 271,
   "metadata": {},
   "outputs": [
    {
     "name": "stdout",
     "output_type": "stream",
     "text": [
      "Char dataset shape:  (77, 28, 28)\n"
     ]
    },
    {
     "data": {
      "image/png": "[encoded data removed]",
      "text/plain": [
       "<Figure size 640x480 with 1 Axes>"
      ]
     },
     "metadata": {},
     "output_type": "display_data"
    }
   ],
   "source": [
    "print(\"Char dataset shape: \", data.shape)\n",
    "k = np.random.randint(0, len(data))\n",
    "char = data[k,:,:]\n",
    "plt.imshow(char, cmap='gray')\n",
    "label = y[k,]\n",
    "\n",
    "if label == 99:\n",
    "    true_char = 'unknown'\n",
    "else:\n",
    "    true_char = chars[label]\n",
    "\n",
    "plt.title('Sample ' + str(k) + ', Label: '+ str(label) + ' --> ' + str(true_char));"
   ]
  },
  {
   "cell_type": "markdown",
   "metadata": {},
   "source": [
    "# Load EMNIST dataset"
   ]
  },
  {
   "cell_type": "code",
   "execution_count": 272,
   "metadata": {},
   "outputs": [
    {
     "name": "stdout",
     "output_type": "stream",
     "text": [
      "X train shape:  (124800, 784)\n",
      "y train shape:  (124800, 1)\n",
      "X test shape:  (20800, 784)\n",
      "y test shape:  (20800, 1)\n"
     ]
    }
   ],
   "source": [
    "emnist = scipy.io.loadmat('data/training/emnist-letters.mat')\n",
    "emnist_data = emnist['dataset']\n",
    "\n",
    "X_train = emnist_data['train'][0,0]['images'][0,0]\n",
    "y_train = emnist_data['train'][0,0]['labels'][0,0]\n",
    "\n",
    "X_test = emnist_data['test'][0,0]['images'][0,0]\n",
    "y_test = emnist_data['test'][0,0]['labels'][0,0]\n",
    "\n",
    "## Create validation set\n",
    "# val_start = X_train.shape[0] - X_test.shape[0]\n",
    "# X_val = X_train[val_start:X_train.shape[0],:]\n",
    "# y_val = y_train[val_start:X_train.shape[0]]\n",
    "# X_train = X_train[0:val_start,:]\n",
    "# y_train = y_train[0:val_start]\n",
    "\n",
    "\n",
    "print(\"X train shape: \", X_train.shape)\n",
    "print(\"y train shape: \", y_train.shape)\n",
    "print(\"X test shape: \", X_test.shape)\n",
    "print(\"y test shape: \", y_test.shape)\n",
    "\n",
    "# print(\"X validation shape: \", X_val.shape)\n",
    "# print(\"y validation shape: \", y_val.shape)\n",
    "\n",
    "# Scale data\n",
    "scaler = MinMaxScaler()\n",
    "X_train = scaler.fit_transform(X_train)\n",
    "#y_train = scaler.fit_transform(y_train)\n",
    "X_test = scaler.fit_transform(X_test)\n",
    "#y_test = scaler.fit_transform(y_test)"
   ]
  },
  {
   "cell_type": "code",
   "execution_count": 273,
   "metadata": {},
   "outputs": [
    {
     "data": {
      "text/plain": [
       "Text(0.5, 1.0, 'Test Label: n, 14')"
      ]
     },
     "execution_count": 273,
     "metadata": {},
     "output_type": "execute_result"
    },
    {
     "data": {
      "image/png": "[encoded data removed]",
      "text/plain": [
       "<Figure size 640x480 with 2 Axes>"
      ]
     },
     "metadata": {},
     "output_type": "display_data"
    }
   ],
   "source": [
    "X_train = X_train.reshape((X_train.shape[0], 28, 28), order='F')\n",
    "X_test = X_test.reshape((X_test.shape[0], 28, 28), order='F')\n",
    "\n",
    "rand_train = np.random.randint(0, len(X_train))\n",
    "rand_test = np.random.randint(0, len(X_test))\n",
    "\n",
    "train_char = X_train[rand_train,:,:]\n",
    "test_char = X_test[rand_test,:,:]\n",
    "\n",
    "train_label_i = y_train[rand_train,0]\n",
    "test_label_i = y_test[rand_test,0]\n",
    "# Translate labels to letter\n",
    "letters = 'abcdefghijklmnopqrstuvwxyz'\n",
    "train_label = letters[train_label_i-1]\n",
    "test_label = letters[test_label_i-1]\n",
    "\n",
    "fig, axes = plt.subplots(1,2)\n",
    "axes[0].imshow(train_char, cmap='gray')\n",
    "axes[0].set_title(f'Train Label: {train_label}, {train_label_i}')\n",
    "#plt.title(f'Label: {label}, {label_i}')\n",
    "axes[1].imshow(test_char, cmap='gray')\n",
    "axes[1].set_title(f'Test Label: {test_label}, {test_label_i}')"
   ]
  },
  {
   "cell_type": "code",
   "execution_count": 274,
   "metadata": {},
   "outputs": [],
   "source": [
    "# X_test = X_test.reshape((X_test.shape[0], 28, 28), order='F')\n",
    "\n",
    "# random_sample = np.random.randint(0, len(X_test))\n",
    "# char = X_test[random_sample,:,:]\n",
    "# label_i = y_test[random_sample,0]\n",
    "# # Translate labels to letter\n",
    "# letters = 'abcdefghijklmnopqrstuvwxyz'\n",
    "# label = letters[label_i-1]\n",
    "\n",
    "# plt.imshow(char, cmap='gray')\n",
    "# plt.title(f'Label: {label}, {label_i}')\n",
    "\n"
   ]
  },
  {
   "cell_type": "markdown",
   "metadata": {},
   "source": [
    "# Pre-training with EMNIST dataset"
   ]
  },
  {
   "cell_type": "code",
   "execution_count": 275,
   "metadata": {},
   "outputs": [
    {
     "name": "stdout",
     "output_type": "stream",
     "text": [
      "Model: \"sequential_18\"\n",
      "_________________________________________________________________\n",
      " Layer (type)                Output Shape              Param #   \n",
      "=================================================================\n",
      " conv2d_36 (Conv2D)          (None, 25, 25, 40)        680       \n",
      "                                                                 \n",
      " max_pooling2d_36 (MaxPooli  (None, 12, 12, 40)        0         \n",
      " ng2D)                                                           \n",
      "                                                                 \n",
      " conv2d_37 (Conv2D)          (None, 10, 10, 24)        8664      \n",
      "                                                                 \n",
      " max_pooling2d_37 (MaxPooli  (None, 5, 5, 24)          0         \n",
      " ng2D)                                                           \n",
      "                                                                 \n",
      " dropout_18 (Dropout)        (None, 5, 5, 24)          0         \n",
      "                                                                 \n",
      " flatten_18 (Flatten)        (None, 600)               0         \n",
      "                                                                 \n",
      " dense_36 (Dense)            (None, 40)                24040     \n",
      "                                                                 \n",
      " dense_37 (Dense)            (None, 27)                1107      \n",
      "                                                                 \n",
      "=================================================================\n",
      "Total params: 34491 (134.73 KB)\n",
      "Trainable params: 34491 (134.73 KB)\n",
      "Non-trainable params: 0 (0.00 Byte)\n",
      "_________________________________________________________________\n"
     ]
    }
   ],
   "source": [
    "# Add channel dimension\n",
    "X_train = X_train.reshape((X_train.shape[0],28,28,1))\n",
    "X_test = X_test.reshape((X_test.shape[0],28,28,1))\n",
    "\n",
    "\n",
    "model = K.models.Sequential([\n",
    "    K.layers.Conv2D(40, (4,4), activation='relu',kernel_regularizer=l2(0.01), input_shape=X_train.shape[1:]),\n",
    "    K.layers.MaxPool2D((2,2)),\n",
    "    K.layers.Conv2D(24, (3,3), activation='relu',kernel_regularizer=l2(0.01)),\n",
    "    K.layers.MaxPool2D((2,2)),\n",
    "    K.layers.Dropout(0.15),\n",
    "    K.layers.Flatten(),\n",
    "    K.layers.Dense(40, activation='relu',kernel_regularizer=l2(0.01)),\n",
    "    K.layers.Dense(len(letters) + 1, activation='softmax')\n",
    "])\n",
    "model.summary()"
   ]
  },
  {
   "cell_type": "code",
   "execution_count": 276,
   "metadata": {},
   "outputs": [
    {
     "name": "stdout",
     "output_type": "stream",
     "text": [
      "Epoch 1/25\n",
      "104/104 - 6s - loss: 2.5286 - accuracy: 0.4265 - val_loss: 1.2874 - val_accuracy: 0.7320 - 6s/epoch - 53ms/step\n",
      "Epoch 2/25\n",
      "104/104 - 5s - loss: 1.1413 - accuracy: 0.7652 - val_loss: 0.9442 - val_accuracy: 0.8233 - 5s/epoch - 47ms/step\n",
      "Epoch 3/25\n",
      "104/104 - 5s - loss: 0.9402 - accuracy: 0.8156 - val_loss: 0.8386 - val_accuracy: 0.8452 - 5s/epoch - 47ms/step\n",
      "Epoch 4/25\n",
      "104/104 - 5s - loss: 0.8649 - accuracy: 0.8325 - val_loss: 0.7826 - val_accuracy: 0.8557 - 5s/epoch - 48ms/step\n",
      "Epoch 5/25\n",
      "104/104 - 5s - loss: 0.8151 - accuracy: 0.8432 - val_loss: 0.7507 - val_accuracy: 0.8646 - 5s/epoch - 48ms/step\n",
      "Epoch 6/25\n",
      "104/104 - 5s - loss: 0.7846 - accuracy: 0.8488 - val_loss: 0.7285 - val_accuracy: 0.8697 - 5s/epoch - 48ms/step\n",
      "Epoch 7/25\n",
      "104/104 - 5s - loss: 0.7662 - accuracy: 0.8535 - val_loss: 0.7162 - val_accuracy: 0.8736 - 5s/epoch - 49ms/step\n",
      "Epoch 8/25\n",
      "104/104 - 5s - loss: 0.7503 - accuracy: 0.8561 - val_loss: 0.7102 - val_accuracy: 0.8706 - 5s/epoch - 50ms/step\n",
      "Epoch 9/25\n",
      "104/104 - 5s - loss: 0.7352 - accuracy: 0.8598 - val_loss: 0.6889 - val_accuracy: 0.8761 - 5s/epoch - 51ms/step\n",
      "Epoch 10/25\n",
      "104/104 - 5s - loss: 0.7242 - accuracy: 0.8626 - val_loss: 0.6829 - val_accuracy: 0.8795 - 5s/epoch - 51ms/step\n",
      "Epoch 11/25\n",
      "104/104 - 5s - loss: 0.7170 - accuracy: 0.8635 - val_loss: 0.6762 - val_accuracy: 0.8786 - 5s/epoch - 51ms/step\n",
      "Epoch 12/25\n",
      "104/104 - 5s - loss: 0.7089 - accuracy: 0.8668 - val_loss: 0.6688 - val_accuracy: 0.8805 - 5s/epoch - 51ms/step\n",
      "Epoch 13/25\n",
      "104/104 - 5s - loss: 0.7027 - accuracy: 0.8664 - val_loss: 0.6608 - val_accuracy: 0.8840 - 5s/epoch - 51ms/step\n",
      "Epoch 14/25\n",
      "104/104 - 5s - loss: 0.6902 - accuracy: 0.8709 - val_loss: 0.6515 - val_accuracy: 0.8868 - 5s/epoch - 52ms/step\n",
      "Epoch 15/25\n",
      "104/104 - 5s - loss: 0.6884 - accuracy: 0.8696 - val_loss: 0.6523 - val_accuracy: 0.8844 - 5s/epoch - 52ms/step\n",
      "Epoch 16/25\n",
      "104/104 - 5s - loss: 0.6815 - accuracy: 0.8705 - val_loss: 0.6433 - val_accuracy: 0.8858 - 5s/epoch - 52ms/step\n",
      "Epoch 17/25\n",
      "104/104 - 5s - loss: 0.6767 - accuracy: 0.8721 - val_loss: 0.6383 - val_accuracy: 0.8901 - 5s/epoch - 53ms/step\n",
      "Epoch 18/25\n",
      "104/104 - 6s - loss: 0.6700 - accuracy: 0.8731 - val_loss: 0.6408 - val_accuracy: 0.8865 - 6s/epoch - 57ms/step\n",
      "Epoch 19/25\n",
      "104/104 - 6s - loss: 0.6692 - accuracy: 0.8727 - val_loss: 0.6304 - val_accuracy: 0.8881 - 6s/epoch - 60ms/step\n",
      "Epoch 20/25\n",
      "104/104 - 6s - loss: 0.6608 - accuracy: 0.8751 - val_loss: 0.6289 - val_accuracy: 0.8885 - 6s/epoch - 60ms/step\n",
      "Epoch 21/25\n",
      "104/104 - 6s - loss: 0.6579 - accuracy: 0.8751 - val_loss: 0.6215 - val_accuracy: 0.8897 - 6s/epoch - 61ms/step\n",
      "Epoch 22/25\n",
      "104/104 - 6s - loss: 0.6526 - accuracy: 0.8755 - val_loss: 0.6192 - val_accuracy: 0.8907 - 6s/epoch - 62ms/step\n",
      "Epoch 23/25\n",
      "104/104 - 6s - loss: 0.6508 - accuracy: 0.8763 - val_loss: 0.6178 - val_accuracy: 0.8893 - 6s/epoch - 62ms/step\n",
      "Epoch 24/25\n",
      "104/104 - 6s - loss: 0.6438 - accuracy: 0.8778 - val_loss: 0.6157 - val_accuracy: 0.8890 - 6s/epoch - 61ms/step\n",
      "Epoch 25/25\n",
      "104/104 - 6s - loss: 0.6423 - accuracy: 0.8763 - val_loss: 0.6091 - val_accuracy: 0.8893 - 6s/epoch - 61ms/step\n"
     ]
    }
   ],
   "source": [
    "model.compile(optimizer='adam', loss='sparse_categorical_crossentropy', metrics=['accuracy'])\n",
    "\n",
    "history = model.fit(X_train, y_train, epochs=25, batch_size=1200, verbose=2, validation_data=(X_test, y_test))"
   ]
  },
  {
   "cell_type": "code",
   "execution_count": 277,
   "metadata": {},
   "outputs": [
    {
     "data": {
      "image/png": "[encoded data removed]",
      "text/plain": [
       "<Figure size 640x480 with 1 Axes>"
      ]
     },
     "metadata": {},
     "output_type": "display_data"
    }
   ],
   "source": [
    "plt.title('Learning Curves')\n",
    "plt.xlabel('Epochs')\n",
    "plt.ylabel('Accuracy')\n",
    "plt.plot(history.history['accuracy'], label='train')\n",
    "plt.plot(history.history['val_accuracy'], label='validation')\n",
    "plt.legend()\n",
    "plt.grid()\n",
    "plt.show()"
   ]
  },
  {
   "cell_type": "code",
   "execution_count": 278,
   "metadata": {},
   "outputs": [
    {
     "name": "stdout",
     "output_type": "stream",
     "text": [
      "Accuracy: 88.93269300460815\n"
     ]
    }
   ],
   "source": [
    "loss, accuracy = model.evaluate(X_test, y_test, verbose=0)\n",
    "print(f'Accuracy: {accuracy*100}')"
   ]
  },
  {
   "cell_type": "markdown",
   "metadata": {},
   "source": [
    "# Predict our own handwritten characters"
   ]
  },
  {
   "cell_type": "code",
   "execution_count": 279,
   "metadata": {},
   "outputs": [
    {
     "name": "stdout",
     "output_type": "stream",
     "text": [
      "['g', 'o', 'p', 'c', 't', 'h', 'i', 's', 'w', 'n', 'k', 's', 'y', 'f', 'x', 'n', 'a', 'p', 'r', 'o', 'i', 't', 'e', 'b', 't', 'n', 'i', 't', 'i', 't', 'a', 'u', 'm', 'p', 'i', 't', 'w', 'x', 'e', 'i', 'r', 't', 'q', 'm', 't', 'a', 'x', 'i', 'i', 'p', 'e', 'a', 't', 'n', 'i', 'r', 'd', 'l', 'i', 'n', 'c', 'd', 'b', 'p', 'x', 'e', 'f', 'i', 'r', 'a', 'i', 'm', 'f', 's', 'i', 'o', 'g']\n"
     ]
    }
   ],
   "source": [
    "data = data.reshape(data.shape[0],28,28,1)\n",
    "# make prediction\n",
    "proba = model.predict(data, verbose = 0)\n",
    "pred = [np.argmax(p) for p in proba]\n",
    "\n",
    "\n",
    "pred_chars = [chars[x-1] for x in pred]\n",
    "\n",
    "np.reshape(pred_chars, (1, len(pred_chars)), order='F')\n",
    "print(pred_chars)\n"
   ]
  },
  {
   "cell_type": "code",
   "execution_count": 280,
   "metadata": {},
   "outputs": [
    {
     "data": {
      "image/png": "[encoded data removed]",
      "text/plain": [
       "<Figure size 640x480 with 1 Axes>"
      ]
     },
     "metadata": {},
     "output_type": "display_data"
    }
   ],
   "source": [
    "data = data.reshape(data.shape[0],28,28)\n",
    "k = np.random.randint(0,len(pred_chars))\n",
    "\n",
    "label = y[k]\n",
    "if label == 99:\n",
    "    true_char = 'unknown'\n",
    "else:\n",
    "    true_char = chars[label]\n",
    "\n",
    "plt.imshow(data[k,:,:], cmap='gray')\n",
    "plt.title(f\"Sample: {k}, Predicted: {pred_chars[k]}, True: {true_char}\");"
   ]
  },
  {
   "cell_type": "markdown",
   "metadata": {},
   "source": [
    "## Confusion Matrix"
   ]
  },
  {
   "cell_type": "code",
   "execution_count": 281,
   "metadata": {},
   "outputs": [
    {
     "data": {
      "image/png": "[encoded data removed]",
      "text/plain": [
       "<Figure size 1000x1000 with 2 Axes>"
      ]
     },
     "metadata": {},
     "output_type": "display_data"
    }
   ],
   "source": [
    "def to_char(index):\n",
    "    if index == 99:\n",
    "        return '-'\n",
    "    else:\n",
    "        return chars[index]\n",
    "\n",
    "y_true = [to_char(x) for x in y]\n",
    "y_pred = pred_chars\n",
    "\n",
    "## Locate misclassified characters\n",
    "df = pd.DataFrame(columns=['Pred', 'True'])\n",
    "df.loc[:,'True'] = y_true\n",
    "df.loc[:,'Pred'] = y_pred\n",
    "misclassified = df[df['Pred'] != df['True']]\n",
    "acc = 1-(len(misclassified)/len(y_pred))\n",
    "\n",
    "## Confusion matrix\n",
    "set_total = set(y_pred).union(set(y_true))\n",
    "labels = sorted(list(set_total))\n",
    "\n",
    "cm = metrics.confusion_matrix(y_true, y_pred)\n",
    "fig = plt.figure(figsize=(10,10))\n",
    "ax = fig.add_subplot(111)\n",
    "sns.heatmap(cm, annot=True, fmt=\".0f\", linewidths=1, square=True);\n",
    "plt.ylabel('True label');\n",
    "plt.xlabel('Predicted label');\n",
    "plt.title('Accuracy Score: {0:.2f}'.format(acc*100), size=12);\n",
    "ax.set_xticklabels(labels);\n",
    "ax.set_yticklabels(labels);"
   ]
  },
  {
   "cell_type": "code",
   "execution_count": 282,
   "metadata": {},
   "outputs": [
    {
     "name": "stdout",
     "output_type": "stream",
     "text": [
      "Misclassified: 39\n"
     ]
    },
    {
     "data": {
      "text/html": [
       "<div>\n",
       "<style scoped>\n",
       "    .dataframe tbody tr th:only-of-type {\n",
       "        vertical-align: middle;\n",
       "    }\n",
       "\n",
       "    .dataframe tbody tr th {\n",
       "        vertical-align: top;\n",
       "    }\n",
       "\n",
       "    .dataframe thead th {\n",
       "        text-align: right;\n",
       "    }\n",
       "</style>\n",
       "<table border=\"1\" class=\"dataframe\">\n",
       "  <thead>\n",
       "    <tr style=\"text-align: right;\">\n",
       "      <th></th>\n",
       "      <th>Pred</th>\n",
       "      <th>True</th>\n",
       "    </tr>\n",
       "  </thead>\n",
       "  <tbody>\n",
       "    <tr>\n",
       "      <th>0</th>\n",
       "      <td>g</td>\n",
       "      <td>h</td>\n",
       "    </tr>\n",
       "    <tr>\n",
       "      <th>3</th>\n",
       "      <td>c</td>\n",
       "      <td>e</td>\n",
       "    </tr>\n",
       "    <tr>\n",
       "      <th>9</th>\n",
       "      <td>n</td>\n",
       "      <td>-</td>\n",
       "    </tr>\n",
       "    <tr>\n",
       "      <th>12</th>\n",
       "      <td>y</td>\n",
       "      <td>-</td>\n",
       "    </tr>\n",
       "    <tr>\n",
       "      <th>14</th>\n",
       "      <td>x</td>\n",
       "      <td>l</td>\n",
       "    </tr>\n",
       "    <tr>\n",
       "      <th>20</th>\n",
       "      <td>i</td>\n",
       "      <td>j</td>\n",
       "    </tr>\n",
       "    <tr>\n",
       "      <th>21</th>\n",
       "      <td>t</td>\n",
       "      <td>e</td>\n",
       "    </tr>\n",
       "    <tr>\n",
       "      <th>22</th>\n",
       "      <td>e</td>\n",
       "      <td>c</td>\n",
       "    </tr>\n",
       "    <tr>\n",
       "      <th>23</th>\n",
       "      <td>b</td>\n",
       "      <td>t</td>\n",
       "    </tr>\n",
       "    <tr>\n",
       "      <th>25</th>\n",
       "      <td>n</td>\n",
       "      <td>h</td>\n",
       "    </tr>\n",
       "    <tr>\n",
       "      <th>27</th>\n",
       "      <td>t</td>\n",
       "      <td>s</td>\n",
       "    </tr>\n",
       "    <tr>\n",
       "      <th>29</th>\n",
       "      <td>t</td>\n",
       "      <td>s</td>\n",
       "    </tr>\n",
       "    <tr>\n",
       "      <th>31</th>\n",
       "      <td>u</td>\n",
       "      <td>-</td>\n",
       "    </tr>\n",
       "    <tr>\n",
       "      <th>34</th>\n",
       "      <td>i</td>\n",
       "      <td>l</td>\n",
       "    </tr>\n",
       "    <tr>\n",
       "      <th>35</th>\n",
       "      <td>t</td>\n",
       "      <td>e</td>\n",
       "    </tr>\n",
       "    <tr>\n",
       "      <th>36</th>\n",
       "      <td>w</td>\n",
       "      <td>-</td>\n",
       "    </tr>\n",
       "    <tr>\n",
       "      <th>38</th>\n",
       "      <td>e</td>\n",
       "      <td>t</td>\n",
       "    </tr>\n",
       "    <tr>\n",
       "      <th>39</th>\n",
       "      <td>i</td>\n",
       "      <td>t</td>\n",
       "    </tr>\n",
       "    <tr>\n",
       "      <th>40</th>\n",
       "      <td>r</td>\n",
       "      <td>h</td>\n",
       "    </tr>\n",
       "    <tr>\n",
       "      <th>41</th>\n",
       "      <td>t</td>\n",
       "      <td>e</td>\n",
       "    </tr>\n",
       "    <tr>\n",
       "      <th>42</th>\n",
       "      <td>q</td>\n",
       "      <td>-</td>\n",
       "    </tr>\n",
       "    <tr>\n",
       "      <th>43</th>\n",
       "      <td>m</td>\n",
       "      <td>-</td>\n",
       "    </tr>\n",
       "    <tr>\n",
       "      <th>44</th>\n",
       "      <td>t</td>\n",
       "      <td>o</td>\n",
       "    </tr>\n",
       "    <tr>\n",
       "      <th>45</th>\n",
       "      <td>a</td>\n",
       "      <td>n</td>\n",
       "    </tr>\n",
       "    <tr>\n",
       "      <th>46</th>\n",
       "      <td>x</td>\n",
       "      <td>-</td>\n",
       "    </tr>\n",
       "    <tr>\n",
       "      <th>47</th>\n",
       "      <td>i</td>\n",
       "      <td>r</td>\n",
       "    </tr>\n",
       "    <tr>\n",
       "      <th>50</th>\n",
       "      <td>e</td>\n",
       "      <td>t</td>\n",
       "    </tr>\n",
       "    <tr>\n",
       "      <th>53</th>\n",
       "      <td>n</td>\n",
       "      <td>h</td>\n",
       "    </tr>\n",
       "    <tr>\n",
       "      <th>60</th>\n",
       "      <td>c</td>\n",
       "      <td>e</td>\n",
       "    </tr>\n",
       "    <tr>\n",
       "      <th>61</th>\n",
       "      <td>d</td>\n",
       "      <td>-</td>\n",
       "    </tr>\n",
       "    <tr>\n",
       "      <th>62</th>\n",
       "      <td>b</td>\n",
       "      <td>t</td>\n",
       "    </tr>\n",
       "    <tr>\n",
       "      <th>63</th>\n",
       "      <td>p</td>\n",
       "      <td>e</td>\n",
       "    </tr>\n",
       "    <tr>\n",
       "      <th>65</th>\n",
       "      <td>e</td>\n",
       "      <td>t</td>\n",
       "    </tr>\n",
       "    <tr>\n",
       "      <th>68</th>\n",
       "      <td>r</td>\n",
       "      <td>n</td>\n",
       "    </tr>\n",
       "    <tr>\n",
       "      <th>70</th>\n",
       "      <td>i</td>\n",
       "      <td>l</td>\n",
       "    </tr>\n",
       "    <tr>\n",
       "      <th>72</th>\n",
       "      <td>f</td>\n",
       "      <td>e</td>\n",
       "    </tr>\n",
       "    <tr>\n",
       "      <th>74</th>\n",
       "      <td>i</td>\n",
       "      <td>s</td>\n",
       "    </tr>\n",
       "    <tr>\n",
       "      <th>75</th>\n",
       "      <td>o</td>\n",
       "      <td>a</td>\n",
       "    </tr>\n",
       "    <tr>\n",
       "      <th>76</th>\n",
       "      <td>g</td>\n",
       "      <td>-</td>\n",
       "    </tr>\n",
       "  </tbody>\n",
       "</table>\n",
       "</div>"
      ],
      "text/plain": [
       "   Pred True\n",
       "0     g    h\n",
       "3     c    e\n",
       "9     n    -\n",
       "12    y    -\n",
       "14    x    l\n",
       "20    i    j\n",
       "21    t    e\n",
       "22    e    c\n",
       "23    b    t\n",
       "25    n    h\n",
       "27    t    s\n",
       "29    t    s\n",
       "31    u    -\n",
       "34    i    l\n",
       "35    t    e\n",
       "36    w    -\n",
       "38    e    t\n",
       "39    i    t\n",
       "40    r    h\n",
       "41    t    e\n",
       "42    q    -\n",
       "43    m    -\n",
       "44    t    o\n",
       "45    a    n\n",
       "46    x    -\n",
       "47    i    r\n",
       "50    e    t\n",
       "53    n    h\n",
       "60    c    e\n",
       "61    d    -\n",
       "62    b    t\n",
       "63    p    e\n",
       "65    e    t\n",
       "68    r    n\n",
       "70    i    l\n",
       "72    f    e\n",
       "74    i    s\n",
       "75    o    a\n",
       "76    g    -"
      ]
     },
     "execution_count": 282,
     "metadata": {},
     "output_type": "execute_result"
    }
   ],
   "source": [
    "print(f\"Misclassified: {len(misclassified)}\")\n",
    "misclassified"
   ]
  },
  {
   "cell_type": "code",
   "execution_count": 283,
   "metadata": {},
   "outputs": [
    {
     "data": {
      "text/plain": [
       "{'g': 2,\n",
       " 'c': 2,\n",
       " 'n': 3,\n",
       " 'y': 1,\n",
       " 'x': 2,\n",
       " 'i': 6,\n",
       " 't': 6,\n",
       " 'e': 4,\n",
       " 'b': 2,\n",
       " 'u': 1,\n",
       " 'w': 1,\n",
       " 'r': 2,\n",
       " 'q': 1,\n",
       " 'm': 1,\n",
       " 'a': 1,\n",
       " 'd': 1,\n",
       " 'p': 1,\n",
       " 'f': 1,\n",
       " 'o': 1}"
      ]
     },
     "execution_count": 283,
     "metadata": {},
     "output_type": "execute_result"
    }
   ],
   "source": [
    "## Dictionary with frequency of misclassified characters\n",
    "dict = {}\n",
    "for i in range(0,len(misclassified)):\n",
    "    pred = misclassified.iloc[i,0]\n",
    "    dict[pred] = dict.get(pred,0) + 1\n",
    "dict"
   ]
  }
 ],
 "metadata": {
  "kernelspec": {
   "display_name": "handwriting-project",
   "language": "python",
   "name": "python3"
  },
  "language_info": {
   "codemirror_mode": {
    "name": "ipython",
    "version": 3
   },
   "file_extension": ".py",
   "mimetype": "text/x-python",
   "name": "python",
   "nbconvert_exporter": "python",
   "pygments_lexer": "ipython3",
   "version": "3.10.10"
  }
 },
 "nbformat": 4,
 "nbformat_minor": 2
}
